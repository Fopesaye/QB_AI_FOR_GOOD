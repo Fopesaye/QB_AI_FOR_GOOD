{
  "nbformat": 4,
  "nbformat_minor": 0,
  "metadata": {
    "colab": {
      "provenance": [],
      "gpuType": "T4"
    },
    "kernelspec": {
      "name": "python3",
      "display_name": "Python 3"
    },
    "language_info": {
      "name": "python"
    },
    "gpuClass": "standard",
    "accelerator": "GPU"
  },
  "cells": [
    {
      "cell_type": "markdown",
      "source": [
        "# Environement configuration"
      ],
      "metadata": {
        "id": "YU-RShhISntd"
      }
    },
    {
      "cell_type": "code",
      "source": [
        "import numpy as np\n",
        "import pandas as pd\n",
        "from PIL import Image\n",
        "from sklearn.model_selection import train_test_split\n",
        "import torch\n",
        "import torch.nn as nn\n",
        "import torch.optim as optim\n",
        "from torch.utils.data import DataLoader, Dataset\n",
        "from collections import defaultdict\n",
        "import skimage.io as io\n",
        "from skimage.transform import rotate, AffineTransform, warp\n",
        "from skimage.util import random_noise\n",
        "from skimage.filters import gaussian"
      ],
      "metadata": {
        "id": "mFxwpWAPSl-j"
      },
      "execution_count": null,
      "outputs": []
    },
    {
      "cell_type": "code",
      "source": [
        "import shutil\n",
        "import os\n",
        "\n",
        "# Remove the existing directory\n",
        "#shutil.rmtree('pytorch-lr-finder')\n",
        "\n",
        "# Clone the repository\n",
        "!git clone https://github.com/davidtvs/pytorch-lr-finder\n",
        "\n",
        "# Verify the cloned repository\n",
        "if not os.path.exists('pytorch-lr-finder'):\n",
        "    print(\"Failed to clone the repository. Please check the repository URL.\")\n",
        "    exit(1)\n",
        "\n",
        "# List the files in the cloned repository\n",
        "print(\"Repository files:\")\n",
        "for dirpath, dirnames, filenames in os.walk('pytorch-lr-finder'):\n",
        "    for filename in filenames:\n",
        "        print(os.path.join(dirpath, filename))\n",
        "\n",
        "# Copy the file\n",
        "src_file = os.path.join('pytorch-lr-finder/torch_lr_finder', 'lr_finder.py')\n",
        "dst_file = 'lr_finder.py'\n",
        "\n",
        "if not os.path.exists(src_file):\n",
        "    print(f\"Source file '{src_file}' does not exist.\")\n",
        "    exit(1)\n",
        "\n",
        "try:\n",
        "    shutil.copy(src_file, dst_file)\n",
        "    print(\"File copied successfully.\")\n",
        "except Exception as e:\n",
        "    print(\"An error occurred while copying the file:\")\n",
        "    print(e)"
      ],
      "metadata": {
        "id": "PLI5U4THnbJl"
      },
      "execution_count": null,
      "outputs": []
    },
    {
      "cell_type": "code",
      "source": [
        "from google.colab import drive\n",
        "drive.mount('/content/drive')"
      ],
      "metadata": {
        "id": "NBgm9u6fKCwc",
        "colab": {
          "base_uri": "https://localhost:8080/"
        },
        "outputId": "db6374bb-ba2e-4f5c-80c1-dc9b7b8185f7"
      },
      "execution_count": null,
      "outputs": [
        {
          "output_type": "stream",
          "name": "stdout",
          "text": [
            "Mounted at /content/drive\n"
          ]
        }
      ]
    },
    {
      "cell_type": "code",
      "source": [
        "%cd /content/drive/MyDrive/QB/data/data"
      ],
      "metadata": {
        "colab": {
          "base_uri": "https://localhost:8080/"
        },
        "id": "6E4IzEd59n_Y",
        "outputId": "3fe0103b-5c7f-40c9-99da-ac437613891b"
      },
      "execution_count": null,
      "outputs": [
        {
          "output_type": "stream",
          "name": "stdout",
          "text": [
            "/content/drive/MyDrive/QB/data/data\n"
          ]
        }
      ]
    },
    {
      "cell_type": "code",
      "execution_count": null,
      "metadata": {
        "id": "S5zmv45x9apq"
      },
      "outputs": [],
      "source": [
        "#Define custom dataset\n",
        "\n",
        "class ImageDataset(Dataset):\n",
        "    def __init__(self, metadata):\n",
        "        self.metadata = metadata\n",
        "\n",
        "    def __len__(self):\n",
        "        return len(self.metadata)\n",
        "\n",
        "    def __getitem__(self, index):\n",
        "        image = self.metadata.iloc[index]['image']\n",
        "        image = torch.from_numpy(np.array(image)).unsqueeze(0).float()\n",
        "        label = self.metadata.iloc[index]['plume']\n",
        "        label = 1 if label == 'yes' else 0\n",
        "        print(image.shape)\n",
        "\n",
        "        return image, label\n",
        "\n",
        "# Load metadata\n",
        "metadata = pd.read_csv('metadata.csv')\n",
        "\n",
        "# Load images and labels\n",
        "images = []\n",
        "images_path = []\n",
        "labels = []\n",
        "for index, row in metadata.iterrows():\n",
        "    image_path = row['path'] + '.tif'\n",
        "    label = row['plume']\n",
        "    image = np.array(Image.open(image_path).convert('L')) / 255.0\n",
        "    images.append(image)\n",
        "    images_path.append(image_path)\n",
        "    labels.append(label)\n",
        "\n",
        "pd_data_testing = pd.DataFrame({'image': images, 'plume': labels})\n",
        "\n",
        "train_data, test_data = train_test_split(pd_data_testing, test_size=0.2, random_state=42)\n",
        "\n",
        "def create_augmented_dataset(train_data) :\n",
        "  images = []\n",
        "  images_path = []\n",
        "  labels = []\n",
        "  for index, row in train_data.iterrows():\n",
        "      image = row['image']\n",
        "      label = row['plume']\n",
        "      images.append(image)\n",
        "      images.append(rotate(image, angle=45, mode = 'wrap'))\n",
        "      images.append(np.fliplr(image))\n",
        "      images.append(np.flipud(image))\n",
        "      images.append(random_noise(image,var=0.15**2))\n",
        "      for j in range(5):\n",
        "        labels.append(label)\n",
        "  return images, labels\n",
        "\n",
        "images, labels = create_augmented_dataset(train_data)\n",
        "\n",
        "pd_data_training = pd.DataFrame({'image': images, 'plume': labels})\n",
        "\n",
        "train_data, val_data = train_test_split(pd_data_training, test_size=0.2, random_state=42)\n",
        "\n",
        "train_dataset = ImageDataset(metadata=train_data)\n",
        "val_dataset= ImageDataset(metadata=val_data)\n",
        "test_dataset = ImageDataset(metadata=test_data)\n",
        "\n",
        "train_loader = DataLoader(train_dataset, batch_size=32, shuffle=True)\n",
        "val_loader = DataLoader(val_dataset, batch_size=32, shuffle=False)\n",
        "test_loader = DataLoader(test_dataset, batch_size=32, shuffle=False)\n"
      ]
    },
    {
      "cell_type": "markdown",
      "source": [
        "# First CNN : baseline score"
      ],
      "metadata": {
        "id": "jsn7_SY6Swo7"
      }
    },
    {
      "cell_type": "code",
      "source": [
        "class Net(nn.Module):\n",
        "    def __init__(self, batch_size=32, hidden_dimension = (64, 128), last_layer_size = 128):\n",
        "        super(Net, self).__init__()\n",
        "        self.conv1 = nn.Conv2d(1, batch_size, 3)\n",
        "        self.pool = nn.MaxPool2d(2, 2)\n",
        "        self.conv2 = nn.Conv2d(batch_size, hidden_dimension[0], 3)\n",
        "        self.conv3 = nn.Conv2d(hidden_dimension[0], hidden_dimension[1], 3)\n",
        "        self.flatten = nn.Flatten()\n",
        "        self.fc1 = nn.Linear(hidden_dimension[1] * 6 * 6, last_layer_size)\n",
        "        self.fc2 = nn.Linear(last_layer_size, 1)\n",
        "        self.sigmoid = nn.Sigmoid()\n",
        "\n",
        "    def forward(self, x):\n",
        "        x = self.pool(nn.functional.relu(self.conv1(x)))\n",
        "        x = self.pool(nn.functional.relu(self.conv2(x)))\n",
        "        x = self.pool(nn.functional.relu(self.conv3(x)))\n",
        "        x = self.flatten(x)\n",
        "        x = nn.functional.relu(self.fc1(x))\n",
        "        x = self.sigmoid(self.fc2(x))\n",
        "        return x"
      ],
      "metadata": {
        "id": "A5zj7XvR5m0p"
      },
      "execution_count": null,
      "outputs": []
    },
    {
      "cell_type": "code",
      "source": [
        "!pip install pytorch-model-summary\n",
        "\n",
        "from pytorch_model_summary import summary\n",
        "batch_size = 32\n",
        "print(summary(Net(), torch.zeros((32, 1, 64, 64)), show_input=True))"
      ],
      "metadata": {
        "id": "mc3NbxM57uV6",
        "colab": {
          "base_uri": "https://localhost:8080/"
        },
        "outputId": "cf46f2f4-054e-4248-852a-3bca98bea62d"
      },
      "execution_count": null,
      "outputs": [
        {
          "output_type": "stream",
          "name": "stdout",
          "text": [
            "Looking in indexes: https://pypi.org/simple, https://us-python.pkg.dev/colab-wheels/public/simple/\n",
            "Requirement already satisfied: pytorch-model-summary in /usr/local/lib/python3.10/dist-packages (0.1.2)\n",
            "Requirement already satisfied: tqdm in /usr/local/lib/python3.10/dist-packages (from pytorch-model-summary) (4.65.0)\n",
            "Requirement already satisfied: torch in /usr/local/lib/python3.10/dist-packages (from pytorch-model-summary) (2.0.0+cu118)\n",
            "Requirement already satisfied: numpy in /usr/local/lib/python3.10/dist-packages (from pytorch-model-summary) (1.22.4)\n",
            "Requirement already satisfied: filelock in /usr/local/lib/python3.10/dist-packages (from torch->pytorch-model-summary) (3.12.0)\n",
            "Requirement already satisfied: typing-extensions in /usr/local/lib/python3.10/dist-packages (from torch->pytorch-model-summary) (4.5.0)\n",
            "Requirement already satisfied: sympy in /usr/local/lib/python3.10/dist-packages (from torch->pytorch-model-summary) (1.11.1)\n",
            "Requirement already satisfied: networkx in /usr/local/lib/python3.10/dist-packages (from torch->pytorch-model-summary) (3.1)\n",
            "Requirement already satisfied: jinja2 in /usr/local/lib/python3.10/dist-packages (from torch->pytorch-model-summary) (3.1.2)\n",
            "Requirement already satisfied: triton==2.0.0 in /usr/local/lib/python3.10/dist-packages (from torch->pytorch-model-summary) (2.0.0)\n",
            "Requirement already satisfied: cmake in /usr/local/lib/python3.10/dist-packages (from triton==2.0.0->torch->pytorch-model-summary) (3.25.2)\n",
            "Requirement already satisfied: lit in /usr/local/lib/python3.10/dist-packages (from triton==2.0.0->torch->pytorch-model-summary) (16.0.3)\n",
            "Requirement already satisfied: MarkupSafe>=2.0 in /usr/local/lib/python3.10/dist-packages (from jinja2->torch->pytorch-model-summary) (2.1.2)\n",
            "Requirement already satisfied: mpmath>=0.19 in /usr/local/lib/python3.10/dist-packages (from sympy->torch->pytorch-model-summary) (1.3.0)\n",
            "------------------------------------------------------------------------\n",
            "      Layer (type)          Input Shape         Param #     Tr. Param #\n",
            "========================================================================\n",
            "          Conv2d-1      [32, 1, 64, 64]             320             320\n",
            "       MaxPool2d-2     [32, 32, 62, 62]               0               0\n",
            "          Conv2d-3     [32, 32, 31, 31]          18,496          18,496\n",
            "          Conv2d-4     [32, 64, 14, 14]          73,856          73,856\n",
            "         Flatten-5      [32, 128, 6, 6]               0               0\n",
            "          Linear-6           [32, 4608]         589,952         589,952\n",
            "          Linear-7            [32, 128]             129             129\n",
            "         Sigmoid-8              [32, 1]               0               0\n",
            "========================================================================\n",
            "Total params: 682,753\n",
            "Trainable params: 682,753\n",
            "Non-trainable params: 0\n",
            "------------------------------------------------------------------------\n"
          ]
        }
      ]
    },
    {
      "cell_type": "code",
      "source": [
        "def train(model, device, train_loader, val_loader, num_epochs, criterion, optimizer) :\n",
        "\n",
        "  history_auc_train = defaultdict(list)\n",
        "  for epoch in range(num_epochs):\n",
        "      running_loss = 0.0\n",
        "      total_outputs_epoch = []\n",
        "      total_labels_epoch = []\n",
        "      for i, (images, labels) in enumerate(train_loader):\n",
        "          images = images.to(device)\n",
        "          labels = labels.to(device)\n",
        "          optimizer.zero_grad()\n",
        "          outputs = model(images)\n",
        "\n",
        "          loss = criterion(outputs, labels.unsqueeze(1).float())\n",
        "          loss.backward()\n",
        "          optimizer.step()\n",
        "          running_loss += loss.item()\n",
        "          total_outputs_epoch = total_outputs_epoch + list(outputs)\n",
        "          total_labels_epoch = total_labels_epoch + list(labels)\n",
        "      \n",
        "      metrics = compute_metrics(torch.tensor(total_outputs_epoch), torch.tensor(total_labels_epoch))\n",
        "      print('--------------------------------')\n",
        "      print(f\"Epoch [{epoch+1}/{num_epochs}]\")\n",
        "      print('TRAINING')\n",
        "      print(f\"Loss: {running_loss:.4f}, Accuracy: {metrics['Accuracy']:.2f}, AUC score: {metrics['AUC']:.2f}, F1 score : {metrics['F1 score']:.2f}\")\n",
        "      running_loss = 0.0\n",
        "      history_auc_train['Train'].append(metrics['AUC'])\n",
        "\n",
        "      metrics = eval(val_loader, model, device)\n",
        "      history_auc_train['Validation'].append(metrics['AUC'])\n",
        "  return history_auc_train\n",
        "\n",
        "\n",
        "def eval(dataloader, model, device) :\n",
        "  # Evaluation\n",
        "  model.eval()\n",
        "  total_outputs_epoch = []\n",
        "  total_labels_epoch = []\n",
        "  with torch.no_grad():\n",
        "      correct = 0\n",
        "      total = 0\n",
        "      for images, labels in dataloader:\n",
        "          images = images.to(device)\n",
        "          labels = labels.to(device)\n",
        "          outputs = model(images)\n",
        "          total_outputs_epoch = total_outputs_epoch + list(outputs)\n",
        "          total_labels_epoch = total_labels_epoch + list(labels)\n",
        "          \n",
        "  metrics = compute_metrics(torch.tensor(total_outputs_epoch), torch.tensor(total_labels_epoch))\n",
        "  print('VALIDATION')\n",
        "  print(f\"Accuracy: {metrics['Accuracy']:.2f}, AUC score: {metrics['AUC']:.2f}, F1 score : {metrics['F1 score']:.2f}\")\n",
        "  return metrics\n"
      ],
      "metadata": {
        "id": "NFBvVbrt_8WS"
      },
      "execution_count": null,
      "outputs": []
    },
    {
      "cell_type": "code",
      "source": [
        "from sklearn.metrics import roc_auc_score, f1_score, accuracy_score\n",
        "\n",
        "def compute_metrics(outputs, labels):\n",
        "    # Convert outputs to binary predictions\n",
        "    predictions = outputs.detach().cpu().numpy()\n",
        "\n",
        "    # Convert labels to numpy array\n",
        "    labels = labels.detach().cpu().numpy()\n",
        "\n",
        "    # Calculate AUC score\n",
        "    auc_score = roc_auc_score(labels, predictions)\n",
        "\n",
        "    predictions = torch.round(outputs).detach().cpu().numpy()\n",
        "    # Calculate F1 score\n",
        "    f1 = f1_score(labels, predictions)\n",
        "\n",
        "    # Calculate accuracy score\n",
        "    accuracy = accuracy_score(labels, predictions)\n",
        "\n",
        "    # Return the computed metrics as a dictionary\n",
        "    metrics = {\n",
        "        'AUC': auc_score,\n",
        "        'F1 score': f1,\n",
        "        'Accuracy': accuracy\n",
        "    }\n",
        "\n",
        "    return metrics"
      ],
      "metadata": {
        "id": "uHqc_5vmJXi-"
      },
      "execution_count": null,
      "outputs": []
    },
    {
      "cell_type": "code",
      "source": [
        "num_epochs = 20\n",
        "\n",
        "\n",
        "device = torch.device(\"cuda\" if torch.cuda.is_available() else \"cpu\")\n",
        "\n",
        "model = Net().to(device)\n",
        "\n",
        "#Define loss function and optimizer\n",
        "\n",
        "criterion = nn.BCELoss()\n",
        "optimizer = optim.Adam(model.parameters())\n",
        "\n",
        "\n"
      ],
      "metadata": {
        "id": "-nGKGRpt6I7q"
      },
      "execution_count": null,
      "outputs": []
    },
    {
      "cell_type": "code",
      "source": [
        "history = train(model, device,  train_loader, val_loader, num_epochs, criterion, optimizer)"
      ],
      "metadata": {
        "id": "cczZpqpCE6ny"
      },
      "execution_count": null,
      "outputs": []
    },
    {
      "cell_type": "code",
      "source": [
        "history"
      ],
      "metadata": {
        "colab": {
          "base_uri": "https://localhost:8080/"
        },
        "id": "sqzrzfPPqFmb",
        "outputId": "53e61da6-c0c6-4c70-d4d6-8f106bf32bc0"
      },
      "execution_count": null,
      "outputs": [
        {
          "output_type": "execute_result",
          "data": {
            "text/plain": [
              "defaultdict(list,\n",
              "            {'Train': [0.6188250478719465,\n",
              "              0.7340647249875691,\n",
              "              0.7786655099816976,\n",
              "              0.8309109952075158,\n",
              "              0.8632480983464341,\n",
              "              0.904359785449044,\n",
              "              0.9355437300974365,\n",
              "              0.9566539360790495,\n",
              "              0.9744612422373391,\n",
              "              0.9807369634903675,\n",
              "              0.991868645726437,\n",
              "              0.9963479787988109,\n",
              "              0.998372882790432,\n",
              "              0.998931476995017,\n",
              "              0.9991705722416766,\n",
              "              0.999390624504089,\n",
              "              0.9988468415094739,\n",
              "              0.9995408524909282,\n",
              "              0.9986606434412789,\n",
              "              0.9991155591760736],\n",
              "             'Validation': [0.6646680216802168,\n",
              "              0.7086043360433605,\n",
              "              0.720189701897019,\n",
              "              0.7739159891598917,\n",
              "              0.8020325203252032,\n",
              "              0.8140243902439025,\n",
              "              0.8430216802168021,\n",
              "              0.8539972899728997,\n",
              "              0.8740176151761518,\n",
              "              0.886890243902439,\n",
              "              0.8953252032520326,\n",
              "              0.9079945799457995,\n",
              "              0.9084010840108401,\n",
              "              0.9080284552845529,\n",
              "              0.9177168021680218,\n",
              "              0.9180216802168022,\n",
              "              0.900169376693767,\n",
              "              0.9192750677506775,\n",
              "              0.9178523035230352,\n",
              "              0.9149051490514905],\n",
              "             'Training': []})"
            ]
          },
          "metadata": {},
          "execution_count": 20
        }
      ]
    },
    {
      "cell_type": "code",
      "source": [
        "import matplotlib.pyplot as plt\n",
        "num_epochs = len(history['Training'])\n",
        "\n",
        "# Generate x-axis values for epochs\n",
        "epochs = range(1, 21)\n",
        "\n",
        "# Plot the curves\n",
        "plt.plot(epochs, history['Train'], 'b', label='Training')\n",
        "plt.plot(epochs, history['Validation'], 'r', label='Validation')\n",
        "plt.title('Training and Validation AUC Scores')\n",
        "plt.xlabel('Epochs')\n",
        "plt.ylabel('AUC Score')\n",
        "plt.legend()\n",
        "plt.show()"
      ],
      "metadata": {
        "colab": {
          "base_uri": "https://localhost:8080/",
          "height": 472
        },
        "id": "pUAcpIgCpzJb",
        "outputId": "79a1087b-978f-4bb5-9c52-ceb957892f7a"
      },
      "execution_count": null,
      "outputs": [
        {
          "output_type": "display_data",
          "data": {
            "text/plain": [
              "<Figure size 640x480 with 1 Axes>"
            ],
            "image/png": "[encoded data removed]"
          },
          "metadata": {}
        }
      ]
    },
    {
      "cell_type": "code",
      "source": [
        "evaluation_results = eval(test_loader, model, device)"
      ],
      "metadata": {
        "id": "yXk4gBsFTXOL",
        "colab": {
          "base_uri": "https://localhost:8080/"
        },
        "outputId": "27a7a5d9-11c1-426c-e105-ef879af25648"
      },
      "execution_count": null,
      "outputs": [
        {
          "output_type": "stream",
          "name": "stdout",
          "text": [
            "VALIDATION\n",
            "Accuracy: 0.77, AUC score: 0.87, F1 score : 0.79\n"
          ]
        }
      ]
    },
    {
      "cell_type": "code",
      "source": [
        "file_path = '/content/drive/MyDrive/QB/model/CNN.pkl'\n",
        "file_path1 = '/content/drive/MyDrive/QB/model/CNN.pt'\n",
        "\n",
        "# Save the model to the .pkl file\n",
        "torch.save(model, file_path)\n",
        "\n",
        "torch.save(model.state_dict(), file_path1)"
      ],
      "metadata": {
        "id": "Xr2EnryQUzWx"
      },
      "execution_count": null,
      "outputs": []
    },
    {
      "cell_type": "code",
      "source": [],
      "metadata": {
        "id": "8p6G9d7wswdf"
      },
      "execution_count": null,
      "outputs": []
    },
    {
      "cell_type": "markdown",
      "source": [
        "# Model 2 : "
      ],
      "metadata": {
        "id": "HUpHoW-tkzmv"
      }
    },
    {
      "cell_type": "code",
      "source": [
        "!pip install torchvision"
      ],
      "metadata": {
        "id": "Hv8qNP3uwdn9"
      },
      "execution_count": null,
      "outputs": []
    },
    {
      "cell_type": "code",
      "source": [
        "class ImageDataset(Dataset):\n",
        "    def __init__(self, metadata):\n",
        "        self.metadata = metadata\n",
        "\n",
        "    def __len__(self):\n",
        "        return len(self.metadata)\n",
        "\n",
        "    def __getitem__(self, index):\n",
        "        image = self.metadata.iloc[index]['image']\n",
        "        image = torch.from_numpy(np.array(image)).unsqueeze(0).float()\n",
        "        image = np.repeat(image[..., np.newaxis], 3, 0).squeeze()\n",
        "        label = self.metadata.iloc[index]['plume']\n",
        "        label = 1 if label == 'yes' else 0\n",
        "\n",
        "        return image, label\n",
        "\n",
        "# Load metadata\n",
        "metadata = pd.read_csv('metadata.csv')\n",
        "\n",
        "# Load images and labels\n",
        "images = []\n",
        "images_path = []\n",
        "labels = []\n",
        "for index, row in metadata.iterrows():\n",
        "    image_path = row['path'] + '.tif'\n",
        "    label = row['plume']\n",
        "    image = np.array(Image.open(image_path).convert('L')) / 255.0\n",
        "    images.append(image)\n",
        "    images_path.append(image_path)\n",
        "    labels.append(label)\n",
        "\n",
        "pd_data_testing = pd.DataFrame({'image': images, 'plume': labels})\n",
        "\n",
        "train_data, test_data = train_test_split(pd_data_testing, test_size=0.2, random_state=42)\n",
        "\n",
        "def create_augmented_dataset(train_data) :\n",
        "  images = []\n",
        "  images_path = []\n",
        "  labels = []\n",
        "  for index, row in train_data.iterrows():\n",
        "      image = row['image']\n",
        "      label = row['plume']\n",
        "      images.append(image)\n",
        "      images.append(rotate(image, angle=45, mode = 'wrap'))\n",
        "      images.append(np.fliplr(image))\n",
        "      images.append(np.flipud(image))\n",
        "      images.append(random_noise(image,var=0.15**2))\n",
        "      for j in range(5):\n",
        "        labels.append(label)\n",
        "  return images, labels\n",
        "\n",
        "images, labels = create_augmented_dataset(train_data)\n",
        "\n",
        "pd_data_training = pd.DataFrame({'image': images, 'plume': labels})\n",
        "\n",
        "train_data, val_data = train_test_split(pd_data_training, test_size=0.2, random_state=42)\n",
        "\n",
        "train_dataset = ImageDataset(metadata=train_data)\n",
        "val_dataset= ImageDataset(metadata=val_data)\n",
        "test_dataset = ImageDataset(metadata=test_data)\n",
        "\n",
        "train_loader = DataLoader(train_dataset, batch_size=32, shuffle=True)\n",
        "val_loader = DataLoader(val_dataset, batch_size=32, shuffle=False)\n",
        "test_loader = DataLoader(test_dataset, batch_size=32, shuffle=False)"
      ],
      "metadata": {
        "id": "TpvVecBIfxln"
      },
      "execution_count": null,
      "outputs": []
    },
    {
      "cell_type": "code",
      "source": [
        "import torchvision.models as models\n",
        "device = torch.device(\"cuda\" if torch.cuda.is_available() else \"cpu\")\n",
        "vgg16 = models.vgg16(pretrained=True)\n",
        "\n",
        "\n",
        "print(vgg16.classifier[6].out_features) # 1000 \n",
        "\n",
        "\n",
        "# Freeze training for all layers\n",
        "for param in vgg16.features.parameters():\n",
        "    param.require_grad = False\n",
        "\n",
        "# Newly created modules have require_grad=True by default\n",
        "num_features = vgg16.classifier[6].in_features\n",
        "features = list(vgg16.classifier.children())[:-1] # Remove last layer\n",
        "features.extend([nn.Linear(num_features, 2)]) # Add our layer with 4 outputs\n",
        "vgg16.classifier = nn.Sequential(*features) # Replace the model classifier\n",
        "print(vgg16)\n",
        "vgg16 = vgg16.to(device)"
      ],
      "metadata": {
        "id": "CjrbKBMFk4x0"
      },
      "execution_count": null,
      "outputs": []
    },
    {
      "cell_type": "code",
      "source": [
        "import torch.optim.lr_scheduler as lr_scheduler\n",
        "\n",
        "criterion = nn.CrossEntropyLoss()\n",
        "\n",
        "optimizer_ft = optim.SGD(vgg16.parameters(), lr=1e-3, momentum=0.9)\n",
        "exp_lr_scheduler = lr_scheduler.StepLR(optimizer_ft, step_size=7, gamma=0.1)"
      ],
      "metadata": {
        "id": "UhJOFGEHySZ2"
      },
      "execution_count": null,
      "outputs": []
    },
    {
      "cell_type": "code",
      "source": [
        "def train(model, device, train_loader, val_loader, num_epochs, criterion, optimizer) :\n",
        "\n",
        "  history_auc_train = defaultdict(list)\n",
        "  for epoch in range(num_epochs):\n",
        "      running_loss = 0.0\n",
        "      total_outputs_epoch = torch.zeros(1, 2).to(device)\n",
        "      total_labels_epoch = []\n",
        "      for i, (images, labels) in enumerate(train_loader):\n",
        "          images = images.to(device)\n",
        "          labels = labels.to(device)\n",
        "          optimizer.zero_grad()\n",
        "          outputs = model(images)\n",
        "          #labels = labels.unsqueeze(1).float()\n",
        "          loss = criterion(outputs, labels)\n",
        "\n",
        "          loss.backward()\n",
        "          optimizer.step()\n",
        "          running_loss += loss.item()\n",
        "          total_outputs_epoch = torch.cat((total_outputs_epoch, outputs), dim = 0)\n",
        "          total_labels_epoch = total_labels_epoch + list(labels)\n",
        "      \n",
        "      metrics = compute_metrics(total_outputs_epoch[1:, :], torch.tensor(total_labels_epoch))\n",
        "      print('--------------------------------')\n",
        "      print(f\"Epoch [{epoch+1}/{num_epochs}]\")\n",
        "      print('TRAINING')\n",
        "      print(f\"Loss: {running_loss:.4f}, Accuracy: {metrics['Accuracy']:.2f}, AUC score: {metrics['AUC']:.2f}, F1 score : {metrics['F1 score']:.2f}\")\n",
        "      running_loss = 0.0\n",
        "      history_auc_train['Train'].append(metrics['AUC'])\n",
        "\n",
        "      metrics = eval(val_loader, model, device)\n",
        "      history_auc_train['Validation'].append(metrics['AUC'])\n",
        "  return history_auc_train\n",
        "\n",
        "\n",
        "def eval(dataloader, model, device) :\n",
        "  # Evaluation\n",
        "  model.eval()\n",
        "  total_outputs_epoch = torch.zeros(1, 2).to(device)\n",
        "  total_labels_epoch = []\n",
        "  with torch.no_grad():\n",
        "      correct = 0\n",
        "      total = 0\n",
        "      for images, labels in dataloader:\n",
        "          images = images.to(device)\n",
        "          labels = labels.to(device)\n",
        "          \n",
        "          outputs = model(images)\n",
        "          total_outputs_epoch = torch.cat((total_outputs_epoch, outputs), dim = 0)\n",
        "          total_labels_epoch = total_labels_epoch + list(labels)\n",
        "          \n",
        "  metrics = compute_metrics(total_outputs_epoch[1:, :], torch.tensor(total_labels_epoch))\n",
        "  print('VALIDATION')\n",
        "  print(f\"Accuracy: {metrics['Accuracy']:.2f}, AUC score: {metrics['AUC']:.2f},  F1 score : {metrics['F1 score']:.2f}\")\n",
        "  return metrics"
      ],
      "metadata": {
        "id": "0Gs4_LWA3I5O"
      },
      "execution_count": null,
      "outputs": []
    },
    {
      "cell_type": "code",
      "source": [
        "from sklearn.metrics import roc_auc_score, f1_score, accuracy_score\n",
        "import torch.nn.functional as F\n",
        "\n",
        "def compute_metrics(outputs, labels):\n",
        "    outputs = F.softmax(outputs, dim=1)\n",
        "    # Convert outputs to binary predictions\n",
        "    predictions = outputs.detach().cpu().numpy()\n",
        "    predictions = predictions[:, 1]\n",
        "    # Convert labels to numpy array\n",
        "    labels = labels.detach().cpu().numpy()\n",
        "\n",
        "    # Calculate AUC score\n",
        "    auc_score = roc_auc_score(labels, predictions)\n",
        "\n",
        "    predictions = torch.round(outputs).detach().cpu().numpy()\n",
        "    predictions = predictions[:, 1]\n",
        "    # Calculate F1 score\n",
        "    f1 = f1_score(labels, predictions)\n",
        "\n",
        "    # Calculate accuracy score\n",
        "    accuracy = accuracy_score(labels, predictions)\n",
        "\n",
        "    # Return the computed metrics as a dictionary\n",
        "    metrics = {\n",
        "        'AUC': auc_score,\n",
        "        'F1 score': f1,\n",
        "        'Accuracy': accuracy\n",
        "    }\n",
        "\n",
        "    return metrics"
      ],
      "metadata": {
        "id": "7CFJuArE-Eb1"
      },
      "execution_count": null,
      "outputs": []
    },
    {
      "cell_type": "code",
      "source": [
        "num_epochs = 10\n",
        "history = train(vgg16, device,  train_loader, val_loader, num_epochs, criterion, optimizer_ft)"
      ],
      "metadata": {
        "id": "tn7UAHwRwwvx"
      },
      "execution_count": null,
      "outputs": []
    },
    {
      "cell_type": "code",
      "source": [
        "import matplotlib.pyplot as plt\n",
        "num_epochs = len(history['Training'])\n",
        "\n",
        "# Generate x-axis values for epochs\n",
        "epochs = range(1, 11)\n",
        "\n",
        "# Plot the curves\n",
        "plt.plot(epochs, history['Train'], 'b', label='Training')\n",
        "plt.plot(epochs, history['Validation'], 'r', label='Validation')\n",
        "plt.title('Training and Validation AUC Scores')\n",
        "plt.xlabel('Epochs')\n",
        "plt.ylabel('AUC Score')\n",
        "plt.legend()\n",
        "plt.show()"
      ],
      "metadata": {
        "colab": {
          "base_uri": "https://localhost:8080/",
          "height": 472
        },
        "id": "c3Y26vZdrvkk",
        "outputId": "c3052ee5-0bcb-425b-a20a-5f58b6dcbbbe"
      },
      "execution_count": null,
      "outputs": [
        {
          "output_type": "display_data",
          "data": {
            "text/plain": [
              "<Figure size 640x480 with 1 Axes>"
            ],
            "image/png": "[encoded data removed]"
          },
          "metadata": {}
        }
      ]
    },
    {
      "cell_type": "code",
      "source": [
        "evaluation_results = eval(test_loader, vgg16, device)"
      ],
      "metadata": {
        "id": "k8OF7MNfZa5Q",
        "outputId": "11a29823-01d4-4ffa-9e25-58d0deba6592",
        "colab": {
          "base_uri": "https://localhost:8080/"
        }
      },
      "execution_count": null,
      "outputs": [
        {
          "output_type": "stream",
          "name": "stdout",
          "text": [
            "VALIDATION\n",
            "Accuracy: 0.79, AUC score: 0.83,  F1 score : 0.82\n"
          ]
        }
      ]
    },
    {
      "cell_type": "code",
      "source": [
        "file_path = '/content/drive/MyDrive/QB/model/VGG16.pkl'\n",
        "file_path1 = '/content/drive/MyDrive/QB/model/VGG16.pt'\n",
        "\n",
        "# Save the model to the .pkl file\n",
        "torch.save(vgg16, file_path)\n",
        "\n",
        "torch.save(vgg16.state_dict(), file_path1)"
      ],
      "metadata": {
        "id": "byC7zQwUtIlW"
      },
      "execution_count": null,
      "outputs": []
    },
    {
      "cell_type": "markdown",
      "source": [
        "# Predicting Results"
      ],
      "metadata": {
        "id": "hER2s9EHtXVP"
      }
    },
    {
      "cell_type": "code",
      "source": [
        "#Define custom dataset\n",
        "\n",
        "%cd /content/drive/MyDrive/QB/test data/data\n",
        "\n",
        "class ImageDataset(Dataset):\n",
        "    def __init__(self, metadata):\n",
        "        self.metadata = metadata\n",
        "\n",
        "    def __len__(self):\n",
        "        return len(self.metadata)\n",
        "\n",
        "    def __getitem__(self, index):\n",
        "        image = self.metadata.iloc[index]['image']\n",
        "        image = torch.from_numpy(np.array(image)).unsqueeze(0).float()\n",
        "        label = self.metadata.iloc[index]['plume']\n",
        "        label = 1 if label == 'yes' else 0\n",
        "\n",
        "        return image, label\n",
        "\n",
        "# Load metadata\n",
        "metadata = pd.read_csv('metadata.csv')\n",
        "\n",
        "# Load images and labels\n",
        "images = []\n",
        "images_path = []\n",
        "labels = []\n",
        "for index, row in metadata.iterrows():\n",
        "    image_path = row['path'] + '.tif'\n",
        "    label = row['plume']\n",
        "    image = np.array(Image.open(image_path).convert('L')) / 255.0\n",
        "    images.append(image)\n",
        "    images_path.append(image_path)\n",
        "    labels.append(label)\n",
        "\n",
        "pd_data_testing = pd.DataFrame({'image': images, 'plume': labels})\n",
        "\n",
        "train_data, test_data = train_test_split(pd_data_testing, test_size=0.2, random_state=42)\n",
        "\n",
        "def create_augmented_dataset(train_data) :\n",
        "  images = []\n",
        "  images_path = []\n",
        "  labels = []\n",
        "  for index, row in train_data.iterrows():\n",
        "      image = row['image']\n",
        "      label = row['plume']\n",
        "      images.append(image)\n",
        "      images.append(rotate(image, angle=45, mode = 'wrap'))\n",
        "      images.append(np.fliplr(image))\n",
        "      images.append(np.flipud(image))\n",
        "      images.append(random_noise(image,var=0.15**2))\n",
        "      for j in range(5):\n",
        "        labels.append(label)\n",
        "  return images, labels\n",
        "\n",
        "images, labels = create_augmented_dataset(train_data)\n",
        "\n",
        "pd_data_training = pd.DataFrame({'image': images, 'plume': labels})\n",
        "\n",
        "train_data, val_data = train_test_split(pd_data_training, test_size=0.2, random_state=42)\n",
        "\n",
        "train_dataset = ImageDataset(metadata=train_data)\n",
        "val_dataset= ImageDataset(metadata=val_data)\n",
        "test_dataset = ImageDataset(metadata=test_data)\n",
        "\n",
        "train_loader = DataLoader(train_dataset, batch_size=32, shuffle=True)\n",
        "val_loader = DataLoader(val_dataset, batch_size=32, shuffle=False)\n",
        "test_loader = DataLoader(test_dataset, batch_size=32, shuffle=False)"
      ],
      "metadata": {
        "id": "qKmjiedHteNq"
      },
      "execution_count": null,
      "outputs": []
    },
    {
      "cell_type": "code",
      "source": [
        "model = Net().to(device)\n",
        "model.load_state_dict(torch.load('/content/drive/MyDrive/QB/model/CNN.pt'))\n",
        "\n",
        "\n",
        "test_path = '/content/drive/MyDrive/QB/test data/images'\n",
        "test_images = os.listdir(test_path)\n",
        "images_paths = []\n",
        "images = []\n",
        "\n",
        "for image in test_images:\n",
        "    images_paths.append(image)\n",
        "    img_path = os.path.join(test_path, image)\n",
        "    image = np.array(Image.open(img_path).convert('L')) / 255.0\n",
        "    images.append(image)\n",
        "\n",
        "\n",
        "pd_data_testing = pd.DataFrame({'image': images, 'image_path' : images_paths})\n",
        "\n",
        "class ImageDataset_Test(Dataset):\n",
        "    def __init__(self, metadata):\n",
        "        self.metadata = metadata\n",
        "\n",
        "    def __len__(self):\n",
        "        return len(self.metadata)\n",
        "\n",
        "    def __getitem__(self, index):\n",
        "        image = self.metadata.iloc[index]['image']\n",
        "        image = torch.from_numpy(np.array(image)).unsqueeze(0).float()\n",
        "        image_path = self.metadata.iloc[index]['image_path']\n",
        "        print(image_path)\n",
        "        return image, image_path\n",
        "\n",
        "test_dataset = ImageDataset_Test(metadata=pd_data_testing)\n",
        "test_loader = DataLoader(test_dataset, batch_size=2, shuffle=False)\n",
        "\n",
        "\n",
        "import pandas as pd\n",
        "\n",
        "model.eval()\n",
        "all_paths = []\n",
        "all_probs = []\n",
        "for batch in test_loader:\n",
        "    images, image_paths = batch\n",
        "    images = images.to(device)\n",
        "    outputs = model(images).squeeze()\n",
        "    all_paths += list(image_paths)\n",
        "    all_probs += list(outputs.cpu().detach().numpy())\n",
        "\n",
        "results_df = pd.DataFrame({'path': all_paths, 'prediction_score': all_probs})\n",
        "results_df.to_csv('/content/test.csv', index=False)\n",
        "\n",
        "  "
      ],
      "metadata": {
        "id": "JGw3zsuhteaz"
      },
      "execution_count": null,
      "outputs": []
    }
  ]
}